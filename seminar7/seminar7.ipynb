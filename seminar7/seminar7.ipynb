{
 "cells": [
  {
   "cell_type": "code",
   "execution_count": 20,
   "metadata": {},
   "outputs": [],
   "source": [
    "import numpy as np\n",
    "from scipy import stats\n",
    "import seaborn as sns\n",
    "from statsmodels.stats.proportion import proportions_ztest"
   ]
  },
  {
   "attachments": {},
   "cell_type": "markdown",
   "metadata": {},
   "source": [
    "# Задача 1\n",
    "Мы провели А/А тест, в котором сравнивали одну и ту же версию сайта. Полученные результаты выглядят следующим образом. \\\n",
    "Можем ли мы на основе проведенного А/А теста запустить А/В-тестирование? Используйте уровень доверия 95%.\n",
    "||Версия А1|Версия А2|\n",
    "|-|--------|---|\n",
    "|Выборка|1731|1702|\n",
    "|Транзакция|152|189|"
   ]
  },
  {
   "cell_type": "code",
   "execution_count": 6,
   "metadata": {},
   "outputs": [
    {
     "name": "stdout",
     "output_type": "stream",
     "text": [
      "Наблюдаемое значение: -2.276\n",
      "P-value: 0.023\n",
      "Альтернативная гипотеза – Между конверсией в двух группах есть статистически значимые различия\n"
     ]
    }
   ],
   "source": [
    "alpha = 0.05\n",
    "count = np.array([152, 189])\n",
    "nobs = np.array([1731, 1702])\n",
    "stat, pval = proportions_ztest(count, nobs)\n",
    "print(f'Наблюдаемое значение: {stat:.3f}')\n",
    "print(f'P-value: {pval:.3f}')\n",
    "\n",
    "if pval > alpha:\n",
    "   print('Нулевая гипотеза - Между конверсией в двух группах нет статистически значимых различий')\n",
    "else:\n",
    "   print('Альтернативная гипотеза – Между конверсией в двух группах есть статистически значимые различия')"
   ]
  },
  {
   "attachments": {},
   "cell_type": "markdown",
   "metadata": {},
   "source": [
    "Запустить АB тест мы не можем, т.к есть различия статистически значимые различия в АА тесте"
   ]
  },
  {
   "attachments": {},
   "cell_type": "markdown",
   "metadata": {},
   "source": [
    "# Задача 2\n",
    "Мы провели А/А тест, в котором сравнивали одну и ту же версию сайта. Полученные результаты выглядят следующим образом. \\\n",
    "Можем ли мы на основе проведенного А/А теста запустить А/В-тестирование? Используйте уровень доверия 95%.\n",
    "||Версия А1\t|Версия А2|\n",
    "|-|--------|---|\n",
    "|Среднее|38.175|33.710|\n",
    "|Стандартное отклонение|28|11|\n",
    "|Выборка|108|105|"
   ]
  },
  {
   "cell_type": "code",
   "execution_count": 21,
   "metadata": {},
   "outputs": [],
   "source": [
    "mu_control, sigma_control, n_control = 38.175, 28, 108\n",
    "mu_experiment, sigma_experiment, n_experiment = 33.710, 11, 105"
   ]
  },
  {
   "attachments": {},
   "cell_type": "markdown",
   "metadata": {},
   "source": [
    "# Задача 3\n",
    "Мы запустили A/B-тест. На его проведение мы собираемся потратить 1 неделю, на каждую выборку направить по 10000 юзеров. На третий день, продакт посмотрел на промежуточные результаты. На этот момент в каждой выборке было по 3000 юзеров, а результат в конверсиях был статистически значимым в пользу версии B. Можем ли мы на основе таких данных выпустить версию B на всех юзеров?"
   ]
  },
  {
   "attachments": {},
   "cell_type": "markdown",
   "metadata": {},
   "source": []
  },
  {
   "attachments": {},
   "cell_type": "markdown",
   "metadata": {},
   "source": [
    "# Задача 4 "
   ]
  },
  {
   "cell_type": "code",
   "execution_count": null,
   "metadata": {},
   "outputs": [],
   "source": []
  },
  {
   "attachments": {},
   "cell_type": "markdown",
   "metadata": {},
   "source": [
    "# Задача 5 "
   ]
  }
 ],
 "metadata": {
  "kernelspec": {
   "display_name": "Python 3",
   "language": "python",
   "name": "python3"
  },
  "language_info": {
   "codemirror_mode": {
    "name": "ipython",
    "version": 3
   },
   "file_extension": ".py",
   "mimetype": "text/x-python",
   "name": "python",
   "nbconvert_exporter": "python",
   "pygments_lexer": "ipython3",
   "version": "3.11.0"
  },
  "orig_nbformat": 4
 },
 "nbformat": 4,
 "nbformat_minor": 2
}
