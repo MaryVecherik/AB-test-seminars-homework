{
 "cells": [
  {
   "cell_type": "code",
   "execution_count": 1,
   "metadata": {},
   "outputs": [],
   "source": [
    "import numpy as np"
   ]
  },
  {
   "attachments": {},
   "cell_type": "markdown",
   "metadata": {},
   "source": [
    "# Задача\n",
    "Вычислите выборочную дисперсию, выборочное среднее, стандартное отклонение, моду и медиану, для следующего множества значениий:\\\n",
    "[5, 5, 5, 18, 10, 8, 9, 10, 19, 21]"
   ]
  },
  {
   "cell_type": "code",
   "execution_count": 31,
   "metadata": {},
   "outputs": [
    {
     "name": "stdout",
     "output_type": "stream",
     "text": [
      "Дисперсия =  37.33\n",
      "Cреднее =  11\n",
      "Стандартное отклонение =  6.11\n",
      "Мода = 5\n",
      "Медиана =  9.5\n"
     ]
    }
   ],
   "source": [
    "x = np.array([5, 5, 5, 18, 10, 8, 9, 10, 19, 21])\n",
    "\n",
    "print(f'Дисперсия = {np.var(x, ddof=1): .2f}')\n",
    "\n",
    "print(f'Cреднее = {np.mean(x): .0f}')\n",
    "\n",
    "print(f'Стандартное отклонение = {np.var(x, ddof=1)**0.5: .2f}')\n",
    "\n",
    "x1 = np.array([5, 5, 5, 8, 9, 10, 10, 18, 19, 21])\n",
    "print(f'Мода = {5}')\n",
    "print(f'Медиана = {(9+10)/2: .1f}')\n"
   ]
  }
 ],
 "metadata": {
  "kernelspec": {
   "display_name": "Python 3",
   "language": "python",
   "name": "python3"
  },
  "language_info": {
   "codemirror_mode": {
    "name": "ipython",
    "version": 3
   },
   "file_extension": ".py",
   "mimetype": "text/x-python",
   "name": "python",
   "nbconvert_exporter": "python",
   "pygments_lexer": "ipython3",
   "version": "3.11.0"
  },
  "orig_nbformat": 4
 },
 "nbformat": 4,
 "nbformat_minor": 2
}
