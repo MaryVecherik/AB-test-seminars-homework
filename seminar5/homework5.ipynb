{
 "cells": [
  {
   "cell_type": "code",
   "execution_count": 1,
   "metadata": {},
   "outputs": [],
   "source": [
    "import numpy as np\n",
    "import scipy.stats as stats\n",
    "\n",
    "import statsmodels.stats.proportion as smp"
   ]
  },
  {
   "attachments": {},
   "cell_type": "markdown",
   "metadata": {},
   "source": [
    "# Задача 1\n",
    "Вы провели эксперимент c упрощением формы заказа в магазине Утконос и получили результаты по метрике конверсий в покупку. Выберите метод оценки и оцените есть ли стат. значимые различия между конверсиями в двух группах при alpha = 5%. Дайте краткие рекомендации команде.\n",
    "\n",
    "Результаты:\n",
    "* Число юзеров в группах, которые заходили на сайт в период эксперимента: n1 = 15550 и n2 = 15550. \n",
    "* Число юзеров в группах, которые совершили хотя бы одну покупку за период эксперимента: n1 = 164 и n2 = 228 \n",
    "* Конверсии : conv1 = 1.05% conv2 = 1.47%"
   ]
  },
  {
   "cell_type": "code",
   "execution_count": 45,
   "metadata": {},
   "outputs": [],
   "source": [
    "n = 15550\n",
    "m1 = 164\n",
    "m2 = 228"
   ]
  },
  {
   "cell_type": "code",
   "execution_count": 65,
   "metadata": {},
   "outputs": [
    {
     "name": "stdout",
     "output_type": "stream",
     "text": [
      "доверительный интервал: [-0.007; -0.002]\n"
     ]
    }
   ],
   "source": [
    "Zt = stats.norm.ppf(0.975)\n",
    "delta = m1/n - m2/n\n",
    "p = (m1+m2)/(n+n)\n",
    "\n",
    "#стандартная ощибка \n",
    "SE = np.sqrt(p*(1-p)*(1/n + 1/n))\n",
    "\n",
    "left = delta - Zt*SE\n",
    "right = delta + Zt*SE\n",
    "\n",
    "print(f'доверительный интервал: [{left:.3f}; {right:.3f}]')"
   ]
  },
  {
   "attachments": {},
   "cell_type": "markdown",
   "metadata": {},
   "source": [
    "0 не входит в интервал - значит есть статистически значимые различия"
   ]
  },
  {
   "cell_type": "code",
   "execution_count": 73,
   "metadata": {},
   "outputs": [
    {
     "name": "stdout",
     "output_type": "stream",
     "text": [
      "Табличный критерий = 1.96\n",
      "Наблюдаемое значение: 3.253\n",
      "Принимаем альтернативную гипотезу\n"
     ]
    }
   ],
   "source": [
    "p1 = m1/n\n",
    "p2 = m2/n\n",
    "p = (m1+m2)/(n+n)\n",
    "\n",
    "Zt = stats.norm.ppf(0.975)\n",
    "print(f'Табличный критерий = {Zt:.2f}')\n",
    "\n",
    "#стандартная ощибка \n",
    "SE = np.sqrt(p*(1-p)*(1/n + 1/n)) #0.001265\n",
    "\n",
    "Z = (p2 - p1) / SE\n",
    "print(f'Наблюдаемое значение: {Z:.3f}')\n",
    "\n",
    "if Zt > Z:\n",
    "   print('Принимаем нулевую гипотезу')\n",
    "else:\n",
    "   print('Принимаем альтернативную гипотезу')\n",
    "    "
   ]
  },
  {
   "cell_type": "code",
   "execution_count": 29,
   "metadata": {},
   "outputs": [
    {
     "name": "stdout",
     "output_type": "stream",
     "text": [
      "Наблюдаемое значение: -3.253\n",
      "P-value = 0.001\n",
      "Альтернативная гипотеза – Между конверсией в двух группах есть статистически значимые различия\n"
     ]
    }
   ],
   "source": [
    "from statsmodels.stats.proportion import proportions_ztest\n",
    "alpha = 0.05\n",
    "count = np.array([164, 228])\n",
    "nobs = np.array([15550, 15550])\n",
    "stat, pval = proportions_ztest(count, nobs)\n",
    "print('Наблюдаемое значение: {0:0.3f}'.format(stat))\n",
    "print('P-value = {0:0.3f}'.format(pval))\n",
    "\n",
    "if pval > alpha:\n",
    "   print('Нулевая гипотеза - Между конверсией в двух группах нет статистически значимых различий')\n",
    "else:\n",
    "   print('Альтернативная гипотеза – Между конверсией в двух группах есть статистически значимые различия')"
   ]
  },
  {
   "attachments": {},
   "cell_type": "markdown",
   "metadata": {},
   "source": [
    "Следовательно, упрощенная форма заказа в магазине Утконос дала статистически значимый эффект на уровень конверсии в покупку. \\\n",
    "Рекомендация: использовать упрощенную форму заказа.\\\n",
    "Однако, следует провести дополнительные исследования, чтобы понять, какие именно элементы формы заказа необходимо упростить, чтобы максимизировать конверсии."
   ]
  },
  {
   "attachments": {},
   "cell_type": "markdown",
   "metadata": {},
   "source": [
    "# Задача 2\n",
    "Сравниваем метрику конверсия в покупку. Размер выборки - 10000 элементов в каждой группе. \n",
    "Какой статистический критерий тут лучше всего подойдёт и почему?"
   ]
  },
  {
   "attachments": {},
   "cell_type": "markdown",
   "metadata": {},
   "source": [
    "Для сравнения метрики конверсии в покупку между двумя группами с размером выборки по 10 000 элементов в каждой группе лучше всего использовать z-тест, так как объём выборки достаточно большой (больше 30), что позволяет использовать нормальное распределение для вычисления статистической значимости. T-тест Стьюдента также может использоваться в данном случае, но z-тест является более точным и надёжным при больших размерах выборки."
   ]
  }
 ],
 "metadata": {
  "kernelspec": {
   "display_name": "Python 3",
   "language": "python",
   "name": "python3"
  },
  "language_info": {
   "codemirror_mode": {
    "name": "ipython",
    "version": 3
   },
   "file_extension": ".py",
   "mimetype": "text/x-python",
   "name": "python",
   "nbconvert_exporter": "python",
   "pygments_lexer": "ipython3",
   "version": "3.11.0"
  },
  "orig_nbformat": 4
 },
 "nbformat": 4,
 "nbformat_minor": 2
}
